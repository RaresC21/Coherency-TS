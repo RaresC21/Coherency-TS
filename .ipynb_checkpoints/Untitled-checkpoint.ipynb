{
 "cells": [
  {
   "cell_type": "code",
   "execution_count": 1,
   "id": "29525d4b-9cf9-44aa-8f2e-f337f04a22b2",
   "metadata": {},
   "outputs": [],
   "source": [
    "import numpy as np \n",
    "from scipy import stats"
   ]
  },
  {
   "cell_type": "code",
   "execution_count": null,
   "id": "4fe43ad5-6df7-4705-bc72-1a9f02c03cd4",
   "metadata": {},
   "outputs": [],
   "source": [
    "base_results = np.array([3.29420297, 2.94779486, 3.8974339,  3.27955628, 3.48930347, 3.49935225, 3.35568925, 3.21518547, 3.33463296, 3.33883459])\n",
    "coherency_results = np.array([3.29420297, 2.94779486, 3.8974339,  3.27955628, 3.48930347, 3.49935225, 3.35568925, 3.21518547, 3.33463296, 3.33883459])\n"
   ]
  }
 ],
 "metadata": {
  "kernelspec": {
   "display_name": "rares_env",
   "language": "python",
   "name": "rares_env"
  },
  "language_info": {
   "codemirror_mode": {
    "name": "ipython",
    "version": 3
   },
   "file_extension": ".py",
   "mimetype": "text/x-python",
   "name": "python",
   "nbconvert_exporter": "python",
   "pygments_lexer": "ipython3",
   "version": "3.12.3"
  }
 },
 "nbformat": 4,
 "nbformat_minor": 5
}

{
 "cells": [
  {
   "cell_type": "code",
   "execution_count": 2,
   "id": "5c5cb122-4f71-4149-8532-7022b1bcc1b7",
   "metadata": {},
   "outputs": [],
   "source": [
    "import pandas as pd\n",
    "import numpy as np\n",
    "from collections import defaultdict\n",
    "from matplotlib import pyplot as plt\n",
    "import random\n",
    "import argparse\n",
    "import os\n",
    "\n",
    "import yaml\n",
    "\n",
    "import torch\n",
    "import torch.nn as nn\n",
    "import torch.nn.functional as F\n",
    "import torch.optim as optim\n",
    "from sklearn import preprocessing\n",
    "\n",
    "\n",
    "import utils\n",
    "from models import * \n",
    "from Experiments import *"
   ]
  },
  {
   "cell_type": "code",
   "execution_count": 3,
   "id": "c1759a19-8b89-414f-8d35-0594613ec9b1",
   "metadata": {},
   "outputs": [],
   "source": [
    "def parse_args():    \n",
    "    parser = argparse.ArgumentParser(description='')\n",
    "    parser.add_argument('-d', '--dataset', type=str, help='Choice of \"traffic\", \"tourism\", \"labor\", \"m5\"')\n",
    "    \n",
    "    args = parser.parse_args()\n",
    "    return args.dataset\n",
    "\n",
    "def load_config(dataset, config_file='config.yaml'):\n",
    "    with open(config_file, 'r') as file:\n",
    "        config = yaml.safe_load(file)\n",
    "    return config.get(\"params\", {})\n",
    "\n",
    "def plot(results, metrics, get, model_name, color=\"black\"):\n",
    "    mean_res = get_mean(results, metrics)    \n",
    "    plt.plot(range(mean_res.shape[0]), mean_res[get], label=model_name, color=color)\n",
    "\n",
    "def plot_results(GET):\n",
    "\n",
    "    plt.figure(figsize=(10, 6))\n",
    "    plt.grid(True, linestyle='--', alpha=0.7)\n",
    "    plt.title('{} by hierarchy level'.format(GET), fontsize=16)\n",
    "    plt.xlabel('Hierarchy level', fontsize=14)\n",
    "    plt.ylabel(GET, fontsize=14)\n",
    "\n",
    "    plot(base_results, metrics, GET, \"base model\", color='red')\n",
    "    plot(projection_results, metrics, GET, \"projection model\", color='blue')\n",
    "    plot(coherency_results, metrics, GET, \"coherency loss model\", color='green')\n",
    "    plot(profhit_results, metrics, GET, \"profhit model\", color='orange')\n",
    "\n",
    "    plt.legend(fontsize=14)\n",
    "    plt.tight_layout()\n",
    "    plt.savefig('plots/{}_{}.png'.format(dataset_name, GET))\n",
    "\n",
    "def plot_all_results(): \n",
    "    for get in metrics:\n",
    "        plot_results(get)\n"
   ]
  },
  {
   "cell_type": "code",
   "execution_count": 5,
   "id": "03ce3873-8925-4a6a-922f-8a415e1de454",
   "metadata": {},
   "outputs": [],
   "source": [
    "dataset_name = \"ili\"\n",
    "data, base_agg_mat = utils.load_data(dataset_name)\n",
    "params = load_config(dataset_name)"
   ]
  },
  {
   "cell_type": "code",
   "execution_count": null,
   "id": "9f0a2fb6-c44d-4519-a548-775ac7f036db",
   "metadata": {},
   "outputs": [],
   "source": [
    "model_type = CNNModel\n",
    "\n",
    "print(\"Base model\")\n",
    "base_results, metrics, base_losses       = repeat_exp(model_type, base_agg_mat, data, params)\n",
    "\n",
    "print(\"CoRE model\")\n",
    "coherency_results,  _, coherency_losses  = repeat_exp(model_type, base_agg_mat, data, params, coherency_loss=True)\n",
    "\n",
    "print(\"Projection model\")\n",
    "projection_results, _, projection_losses = repeat_exp(model_type, base_agg_mat, data, params, project=True)\n",
    "\n",
    "print(\"PROFHiT model\")\n",
    "profhit_results,    _, profhit_losses    = repeat_exp(model_type, base_agg_mat, data, params, profhit_loss=True)\n",
    "\n",
    "plot_all_results()"
   ]
  }
 ],
 "metadata": {
  "kernelspec": {
   "display_name": "rares_env",
   "language": "python",
   "name": "rares_env"
  },
  "language_info": {
   "codemirror_mode": {
    "name": "ipython",
    "version": 3
   },
   "file_extension": ".py",
   "mimetype": "text/x-python",
   "name": "python",
   "nbconvert_exporter": "python",
   "pygments_lexer": "ipython3",
   "version": "3.12.3"
  }
 },
 "nbformat": 4,
 "nbformat_minor": 5
}

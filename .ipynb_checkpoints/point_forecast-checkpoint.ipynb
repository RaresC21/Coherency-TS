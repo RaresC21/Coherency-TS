{
 "cells": [
  {
   "cell_type": "code",
   "execution_count": null,
   "id": "ae98a496-8586-43b0-8fa6-6ea067abb0a5",
   "metadata": {},
   "outputs": [],
   "source": [
    "import pandas as pd\n",
    "import numpy as np\n",
    "from collections import defaultdict\n",
    "from matplotlib import pyplot as plt\n",
    "import random\n",
    "import os\n",
    "\n",
    "import torch\n",
    "import torch.nn as nn\n",
    "import torch.nn.functional as F\n",
    "\n",
    "from utils import *\n",
    "\n",
    "from models import * \n",
    "import torch.optim as optim\n",
    "\n",
    "from sklearn import preprocessing\n",
    "\n",
    "from Experiments import *\n",
    "\n",
    "seed = 0 \n",
    "\n",
    "def set_seeds(seed): \n",
    "    random.seed(seed)\n",
    "    np.random.seed(seed)\n",
    "    torch.manual_seed(seed)\n",
    "    \n",
    "    torch.backends.cudnn.deterministic = True\n",
    "    torch.backends.cudnn.benchmark = False\n",
    "\n",
    "    torch.cuda.manual_seed(seed)\n",
    "    torch.cuda.manual_seed_all(seed) \n",
    "\n",
    "set_seeds(seed)\n",
    "\n",
    "device = torch.device(\"cuda\" if torch.cuda.is_available() else \"cpu\")\n",
    "print(device)\n",
    "\n",
    "%load_ext autoreload\n",
    "%autoreload 2\n"
   ]
  },
  {
   "cell_type": "code",
   "execution_count": null,
   "id": "113c4dca-7eae-4e37-8764-a0b21d86d3ec",
   "metadata": {},
   "outputs": [],
   "source": [
    "dataset = 'traffic'\n",
    "data_file = \"traffic_data/data.csv\"\n",
    "hier_file = \"traffic_data/agg_mat.csv\"\n",
    "\n",
    "# data = pd.read_csv(data_file, index_col=0)\n",
    "# agg_mat_df = pd.read_csv(hier_file, index_col=0)\n",
    "# base_agg_mat = agg_mat_df.values\n",
    "\n",
    "# dataset = 'tourism'\n",
    "# data_file = \"tourism_data/data.csv\"\n",
    "# hier_file = \"tourism_data/agg_mat.csv\"\n",
    "\n",
    "# dataset = 'labor'\n",
    "# data_file = \"labor/data.csv\"\n",
    "# hier_file = \"labor/agg_mat.csv\"\n",
    "\n",
    "data = pd.read_csv(data_file, index_col=0)\n",
    "agg_mat_df = pd.read_csv(hier_file, index_col=0)\n",
    "base_agg_mat = agg_mat_df.values"
   ]
  },
  {
   "cell_type": "code",
   "execution_count": null,
   "id": "21aa6027-2696-4275-9bad-5be06c44b618",
   "metadata": {},
   "outputs": [],
   "source": [
    "maximum = np.max(data.values)\n",
    "data = (data / maximum).values\n",
    "data.shape"
   ]
  },
  {
   "cell_type": "code",
   "execution_count": null,
   "id": "90bc2254-100f-4449-b58c-7436ed370ff9",
   "metadata": {},
   "outputs": [],
   "source": [
    "batch_size = 32\n",
    "context_window = 5\n",
    "train_split = 0.8\n",
    "val_split = 0.1\n",
    "hidden_dim = 5\n",
    "\n",
    "num_runs = 10\n",
    "n_epochs = 5000"
   ]
  },
  {
   "cell_type": "code",
   "execution_count": null,
   "id": "155e3b74-3e24-40e3-a04e-4111795278ea",
   "metadata": {},
   "outputs": [],
   "source": [
    "data.shape"
   ]
  },
  {
   "cell_type": "code",
   "execution_count": null,
   "id": "697c4c87-ac2d-4ba3-bbf2-59d4be6e4bdb",
   "metadata": {},
   "outputs": [],
   "source": [
    "subtree_size = base_agg_mat.sum(axis=1)\n",
    "sizes = np.unique(subtree_size)\n",
    "sizes.shape"
   ]
  },
  {
   "cell_type": "code",
   "execution_count": null,
   "id": "2ea5719a-080e-4575-a0cb-72b3d77254f4",
   "metadata": {
    "tags": []
   },
   "outputs": [],
   "source": [
    "# Base model \n",
    "\n",
    "params = {'n_series':data.shape[1], 'hidden_size':hidden_dim, 'lr':1e-3, 'n_epochs':n_epochs,\n",
    "          'batch_size':batch_size, 'train_split':train_split, 'val_split':val_split, 'context_window':context_window, 'aggregate':False,\n",
    "          'coherency_loss':False,'profhit':False, 'project':False, 'coherency_weight':1}\n",
    "base_results, names, base_losses = repeat_exp(BaseModel, base_agg_mat, data, params, num_runs)"
   ]
  },
  {
   "cell_type": "code",
   "execution_count": null,
   "id": "33647106-bf3f-4fd0-81d8-ecdac65c46b5",
   "metadata": {
    "tags": []
   },
   "outputs": [],
   "source": [
    "# Coherency loss\n",
    "\n",
    "params = {'n_series':data.shape[1], 'hidden_size':hidden_dim, 'lr':1e-3, 'n_epochs':n_epochs, 'batch_size':batch_size, 'train_split':train_split, 'val_split':val_split, 'context_window':context_window, 'aggregate':False,\n",
    "          'coherency_loss':True, 'profhit':False, 'coherency_weight':0.01, 'project':False}\n",
    "\n",
    "coherency_results, names, coherency_losses = repeat_exp(BaseModel, base_agg_mat, data, params, num_runs)"
   ]
  },
  {
   "cell_type": "code",
   "execution_count": null,
   "id": "4fbfa0cb-cc24-4b58-abcb-5d65bd0b1886",
   "metadata": {
    "tags": []
   },
   "outputs": [],
   "source": [
    "# PROFHiT\n",
    "\n",
    "params = {'n_series':data.shape[1], 'hidden_size':hidden_dim, 'lr':1e-3, 'n_epochs':n_epochs, 'batch_size':batch_size, 'train_split':train_split, 'val_split':val_split, 'context_window':context_window, 'aggregate':False,\n",
    "          'coherency_loss':False, 'profhit':True, 'coherency_weight':0.1, 'project':False}\n",
    "profhit_results, names, profhit_losses = repeat_exp(BaseModel, base_agg_mat, data, params, num_runs)"
   ]
  },
  {
   "cell_type": "code",
   "execution_count": null,
   "id": "378838e7-c43c-446a-9b47-08129f18f63b",
   "metadata": {
    "tags": []
   },
   "outputs": [],
   "source": [
    "# Projection \n",
    "\n",
    "params = {'n_series':data.shape[1], 'hidden_size':hidden_dim, 'lr':1e-3, 'n_epochs':n_epochs, 'batch_size':batch_size, 'train_split':train_split, 'val_split':val_split, 'context_window':context_window, 'aggregate':False,\n",
    "          'coherency_loss':False, 'profhit':False, 'project':True, 'coherency_weight':1}\n",
    "projection_results, names, projection_losses = repeat_exp(BaseModel, base_agg_mat, data, params, num_runs)"
   ]
  },
  {
   "cell_type": "code",
   "execution_count": null,
   "id": "5f12fd81-04ff-4d4f-a69f-e1e1a427ea54",
   "metadata": {},
   "outputs": [],
   "source": [
    "plt.plot(coherency_losses[0])\n",
    "# plt.plot(coherency_losses[1], label=')\n",
    "plt.plot(coherency_losses[2])\n",
    "plt.ylim(0,2)"
   ]
  },
  {
   "cell_type": "code",
   "execution_count": null,
   "id": "fd73e9bf-6fff-4109-9332-638e605167de",
   "metadata": {},
   "outputs": [],
   "source": [
    "def plot_results(results, names, get, model_name):\n",
    "    mean_res = get_mean(results, names)\n",
    "    std_res  = get_std(results, names)    \n",
    "    # plt.errorbar(range(mean_res.shape[0]), mean_res[get], std_res[get], \n",
    "    #              label=model_name,\n",
    "    #              capsize=5)\n",
    "    plt.plot(range(mean_res.shape[0]), mean_res[get],\n",
    "                 label=model_name)#,\n",
    "                 # capsize=5)"
   ]
  },
  {
   "cell_type": "code",
   "execution_count": null,
   "id": "1eee9e97-eece-48dd-b0ea-8dc97d06ac69",
   "metadata": {},
   "outputs": [],
   "source": [
    "get = \"MSE\"\n",
    "plot_results(base_results, names, get, \"base model\")\n",
    "plot_results(projection_results, names, get, \"projection model\")\n",
    "plot_results(profhit_results, names, get, \"profhit model\")\n",
    "plot_results(coherency_results, names, get, \"coherency loss model\")\n",
    "# plt.ylim(0,0.002)\n",
    "plt.legend()"
   ]
  },
  {
   "cell_type": "code",
   "execution_count": null,
   "id": "39dbcc46-6a2b-4d60-80a3-ec45dc6c6093",
   "metadata": {},
   "outputs": [],
   "source": [
    "import matplotlib.pyplot as plt\n",
    "import matplotlib.colors as mcolors\n",
    "import matplotlib.ticker as ticker\n",
    "\n",
    "# Set up custom color cycle\n",
    "colors = list(mcolors.TABLEAU_COLORS.values())\n",
    "\n",
    "# Customize the plot style\n",
    "plt.style.use('seaborn-v0_8')\n",
    "plt.rcParams.update({\n",
    "    'font.size': 12,\n",
    "    'axes.labelsize': 14,\n",
    "    'axes.titlesize': 16,\n",
    "    'xtick.labelsize': 10,\n",
    "    'ytick.labelsize': 10,\n",
    "    'legend.fontsize': 12,\n",
    "    'figure.titlesize': 18\n",
    "})\n",
    "\n",
    "# Create a larger figure with higher DPI\n",
    "fig, ax = plt.subplots(figsize=(12, 8), dpi=300)\n",
    "\n",
    "# Plot the results for each model\n",
    "get = \"WMAPE\"\n",
    "models = [\n",
    "    (base_results, \"Base Model\"),\n",
    "    (projection_results, \"Projection Model\"),\n",
    "    (coherency_results, \"Coherency Loss Model\"),\n",
    "    (profhit_results, \"ProfHit Model\"),\n",
    "]\n",
    "\n",
    "for i, (results, label) in enumerate(models):\n",
    "    mean_res = get_mean(results, names)\n",
    "    std_res = get_std(results, names)\n",
    "    # plt.errorbar(range(mean_res.shape[0]), mean_res[get], std_res[get], label=label, color=colors[i], linewidth=2, alpha=0.8)\n",
    "    plt.plot(range(mean_res.shape[0]), mean_res[get], label=label, color=colors[i], linewidth=2, alpha=0.8)\n",
    "    # plot_results(results, names, get, label)#, color=colors[i], linewidth=2, alpha=0.8)\n",
    "    # ax.fill_between(names, mean_res[get], alpha=0.1, color=colors[i])\n",
    "\n",
    "# Customize the plot\n",
    "ax.set_title(\"WMAPE Comparison Across Models\", fontweight='bold')\n",
    "ax.set_xlabel(\"Hierarchy Level\", fontweight='bold')\n",
    "ax.set_ylabel(\"WMAPE\", fontweight='bold')\n",
    "ax.grid(True, linestyle='--', alpha=0.7)\n",
    "ax.legend(title=\"Model Types\", title_fontsize=12, fontsize=10, loc='upper left', bbox_to_anchor=(1, 1))\n",
    "\n",
    "# Rotate x-axis labels for better readability\n",
    "plt.xticks(rotation=0, ha='right')\n",
    "\n",
    "# Remove top and right spines\n",
    "ax.spines['top'].set_visible(False)\n",
    "ax.spines['right'].set_visible(False)\n",
    "\n",
    "ax = plt.gca()  # Get the current axis\n",
    "ax.xaxis.set_major_locator(ticker.MaxNLocator(integer=True))\n",
    "\n",
    "# Adjust layout and save the figure\n",
    "plt.tight_layout()\n",
    "plt.savefig(f'results/{dataset}_wmape.png', bbox_inches='tight')\n",
    "\n",
    "plt.show()\n"
   ]
  },
  {
   "cell_type": "code",
   "execution_count": null,
   "id": "8b444bc4-105f-41db-960b-cffdc3570ab4",
   "metadata": {},
   "outputs": [],
   "source": [
    "import matplotlib.pyplot as plt\n",
    "import matplotlib.colors as mcolors\n",
    "\n",
    "# Set up custom color cycle\n",
    "colors = list(mcolors.TABLEAU_COLORS.values())\n",
    "\n",
    "# Customize the plot style\n",
    "plt.style.use('seaborn-v0_8')\n",
    "plt.rcParams.update({\n",
    "    'font.size': 12,\n",
    "    'axes.labelsize': 14,\n",
    "    'axes.titlesize': 16,\n",
    "    'xtick.labelsize': 10,\n",
    "    'ytick.labelsize': 10,\n",
    "    'legend.fontsize': 12,\n",
    "    'figure.titlesize': 18\n",
    "})\n",
    "\n",
    "# Create a larger figure with higher DPI\n",
    "fig, ax = plt.subplots(figsize=(12, 8), dpi=300)\n",
    "\n",
    "# Plot the results for each model\n",
    "get = \"Coherency\"\n",
    "models = [\n",
    "    (base_results, \"Base Model\"),\n",
    "    (projection_results, \"Projection Model\"),\n",
    "    (coherency_results, \"Coherency Loss Model\"),\n",
    "    (profhit_results, \"ProfHit Model\"),\n",
    "]\n",
    "\n",
    "for i, (results, label) in enumerate(models):\n",
    "    mean_res = get_mean(results, names)\n",
    "    plt.plot(range(mean_res.shape[0]), mean_res[get], label=label, color=colors[i], linewidth=2, alpha=0.8)\n",
    "\n",
    "# Customize the plot\n",
    "ax.set_title(\"Coherency Comparison Across Models\", fontweight='bold')\n",
    "ax.set_xlabel(\"Hierarchy Level\", fontweight='bold')\n",
    "ax.set_ylabel(\"Test data coherency\", fontweight='bold')\n",
    "ax.grid(True, linestyle='--', alpha=0.7)\n",
    "ax.legend(title=\"Model Types\", title_fontsize=12, fontsize=10, loc='upper left', bbox_to_anchor=(1, 1))\n",
    "\n",
    "# Rotate x-axis labels for better readability\n",
    "plt.xticks(rotation=0, ha='right')\n",
    "\n",
    "# Remove top and right spines\n",
    "ax.spines['top'].set_visible(False)\n",
    "ax.spines['right'].set_visible(False)\n",
    "\n",
    "ax = plt.gca()  # Get the current axis\n",
    "ax.xaxis.set_major_locator(ticker.MaxNLocator(integer=True))\n",
    "\n",
    "# Adjust layout and save the figure\n",
    "plt.tight_layout()\n",
    "plt.savefig(f'results/{dataset}_coherency.png', bbox_inches='tight')\n",
    "\n",
    "# Show the plot (optional)\n",
    "plt.show()\n"
   ]
  },
  {
   "cell_type": "code",
   "execution_count": null,
   "id": "01cbff59-0ac9-458d-80d0-48643fed5478",
   "metadata": {},
   "outputs": [],
   "source": [
    "full_agg = format_aggregation_matrix(base_agg_mat).float().to(device)\n",
    "subtree_size = full_agg.sum(dim=1)\n",
    "sizes = torch.unique(subtree_size)\n",
    "weights = sizes.cpu().numpy()[::-1]"
   ]
  },
  {
   "cell_type": "code",
   "execution_count": null,
   "id": "a836693a-4f15-4fab-9451-83c297a3dda0",
   "metadata": {},
   "outputs": [],
   "source": [
    "get_mean(base_results, names)[\"WMAPE\"] @ weights / weights.sum()"
   ]
  },
  {
   "cell_type": "code",
   "execution_count": null,
   "id": "5254c15a-e87f-4e19-8cbb-0fdc6491d312",
   "metadata": {},
   "outputs": [],
   "source": [
    "get_mean(projection_results, names)[\"WMAPE\"] @ weights / weights.sum()"
   ]
  },
  {
   "cell_type": "code",
   "execution_count": null,
   "id": "8f29d2f6-b633-4116-b300-9e259d64bcda",
   "metadata": {},
   "outputs": [],
   "source": [
    "get_mean(coherency_results, names)[\"WMAPE\"] @ weights / weights.sum()"
   ]
  },
  {
   "cell_type": "code",
   "execution_count": null,
   "id": "a2d00730-5404-4572-935a-bbba4eb9f248",
   "metadata": {},
   "outputs": [],
   "source": [
    "get_mean(profhit_results, names)[\"WMAPE\"] @ weights / weights.sum()"
   ]
  },
  {
   "cell_type": "code",
   "execution_count": null,
   "id": "8ac2d459-27d4-4fca-aa2b-9335ea9af9cd",
   "metadata": {},
   "outputs": [],
   "source": []
  },
  {
   "cell_type": "code",
   "execution_count": null,
   "id": "f0d987e8-8649-45ce-a7a1-d8330d0509ec",
   "metadata": {},
   "outputs": [],
   "source": []
  }
 ],
 "metadata": {
  "kernelspec": {
   "display_name": "rares_env",
   "language": "python",
   "name": "rares_env"
  },
  "language_info": {
   "codemirror_mode": {
    "name": "ipython",
    "version": 3
   },
   "file_extension": ".py",
   "mimetype": "text/x-python",
   "name": "python",
   "nbconvert_exporter": "python",
   "pygments_lexer": "ipython3",
   "version": "3.12.3"
  }
 },
 "nbformat": 4,
 "nbformat_minor": 5
}

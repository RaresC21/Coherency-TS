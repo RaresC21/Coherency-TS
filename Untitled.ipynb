{
 "cells": [
  {
   "cell_type": "code",
   "execution_count": 1,
   "id": "29525d4b-9cf9-44aa-8f2e-f337f04a22b2",
   "metadata": {},
   "outputs": [],
   "source": [
    "import numpy as np \n",
    "from scipy import stats"
   ]
  },
  {
   "cell_type": "code",
   "execution_count": 2,
   "id": "4fe43ad5-6df7-4705-bc72-1a9f02c03cd4",
   "metadata": {},
   "outputs": [],
   "source": [
    "base_results = np.array([3.29420297, 2.94779486, 3.8974339,  3.27955628, 3.48930347, 3.49935225, 3.35568925, 3.21518547, 3.33463296, 3.33883459])\n",
    "coherency_results = np.array([2.77104165, 3.18958792, 3.08477594, 3.19325667, 3.59975583, 3.19039905, 3.59898313, 3.53585074, 3.42280388, 3.31039746])"
   ]
  },
  {
   "cell_type": "code",
   "execution_count": 3,
   "id": "1426ee0c-e39d-45c8-99db-b6f04cfa968d",
   "metadata": {},
   "outputs": [],
   "source": [
    "t_stat, p_value = stats.ttest_ind(base_results, coherency_results, equal_var=True)"
   ]
  },
  {
   "cell_type": "code",
   "execution_count": 7,
   "id": "8bc0b6a6-1d79-435c-bb32-b585516d7416",
   "metadata": {},
   "outputs": [
    {
     "data": {
      "text/plain": [
       "0.5"
      ]
     },
     "execution_count": 8,
     "metadata": {},
     "output_type": "execute_result"
    }
   ],
   "source": [
    "coherency_results < base_results"
   ]
  },
  {
   "cell_type": "code",
   "execution_count": null,
   "id": "b0a47b06-d33e-4088-bd6b-27c518712ebc",
   "metadata": {},
   "outputs": [],
   "source": []
  }
 ],
 "metadata": {
  "kernelspec": {
   "display_name": "rares_env",
   "language": "python",
   "name": "rares_env"
  },
  "language_info": {
   "codemirror_mode": {
    "name": "ipython",
    "version": 3
   },
   "file_extension": ".py",
   "mimetype": "text/x-python",
   "name": "python",
   "nbconvert_exporter": "python",
   "pygments_lexer": "ipython3",
   "version": "3.12.3"
  }
 },
 "nbformat": 4,
 "nbformat_minor": 5
}

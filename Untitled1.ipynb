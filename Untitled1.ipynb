{
 "cells": [
  {
   "cell_type": "code",
   "execution_count": 7,
   "id": "5c5cb122-4f71-4149-8532-7022b1bcc1b7",
   "metadata": {},
   "outputs": [],
   "source": [
    "import pandas as pd\n",
    "import numpy as np\n",
    "from collections import defaultdict\n",
    "from matplotlib import pyplot as plt\n",
    "import random\n",
    "import argparse\n",
    "import os\n",
    "\n",
    "import yaml\n",
    "\n",
    "import torch\n",
    "import torch.nn as nn\n",
    "import torch.nn.functional as F\n",
    "import torch.optim as optim\n",
    "from sklearn import preprocessing\n",
    "\n",
    "\n",
    "import utils\n",
    "from models import * \n",
    "from Experiments import *"
   ]
  },
  {
   "cell_type": "code",
   "execution_count": 8,
   "id": "c1759a19-8b89-414f-8d35-0594613ec9b1",
   "metadata": {},
   "outputs": [],
   "source": [
    "def parse_args():    \n",
    "    parser = argparse.ArgumentParser(description='')\n",
    "    parser.add_argument('-d', '--dataset', type=str, help='Choice of \"traffic\", \"tourism\", \"labor\", \"m5\"')\n",
    "    \n",
    "    args = parser.parse_args()\n",
    "    return args.dataset\n",
    "\n",
    "def load_config(dataset, config_file='config.yaml'):\n",
    "    with open(config_file, 'r') as file:\n",
    "        config = yaml.safe_load(file)\n",
    "    return config.get(\"params\", {})\n",
    "\n",
    "def plot(results, metrics, get, model_name, color=\"black\"):\n",
    "    mean_res = get_mean(results, metrics)    \n",
    "    plt.plot(range(mean_res.shape[0]), mean_res[get], label=model_name, color=color)\n",
    "\n",
    "def plot_results(GET):\n",
    "\n",
    "    plt.figure(figsize=(10, 6))\n",
    "    plt.grid(True, linestyle='--', alpha=0.7)\n",
    "    plt.title('{} by hierarchy level'.format(GET), fontsize=16)\n",
    "    plt.xlabel('Hierarchy level', fontsize=14)\n",
    "    plt.ylabel(GET, fontsize=14)\n",
    "\n",
    "    plot(base_results, metrics, GET, \"base model\", color='red')\n",
    "    plot(projection_results, metrics, GET, \"projection model\", color='blue')\n",
    "    plot(coherency_results, metrics, GET, \"coherency loss model\", color='green')\n",
    "    plot(profhit_results, metrics, GET, \"profhit model\", color='orange')\n",
    "\n",
    "    plt.legend(fontsize=14)\n",
    "    plt.tight_layout()\n",
    "    plt.savefig('plots/{}_{}.png'.format(dataset_name, GET))\n",
    "\n",
    "def plot_all_results(): \n",
    "    for get in metrics:\n",
    "        plot_results(get)\n"
   ]
  },
  {
   "cell_type": "code",
   "execution_count": 9,
   "id": "03ce3873-8925-4a6a-922f-8a415e1de454",
   "metadata": {},
   "outputs": [],
   "source": [
    "dataset_name = \"ili\"\n",
    "data, base_agg_mat = utils.load_data(dataset_name)\n",
    "params = load_config(dataset_name)"
   ]
  },
  {
   "cell_type": "code",
   "execution_count": 10,
   "id": "9f0a2fb6-c44d-4519-a548-775ac7f036db",
   "metadata": {},
   "outputs": [
    {
     "name": "stdout",
     "output_type": "stream",
     "text": [
      "Base model\n",
      "run 0\n",
      "BATCH SIZE: 32\n"
     ]
    },
    {
     "name": "stderr",
     "output_type": "stream",
     "text": [
      "  0%|          | 0/1000 [00:00<?, ?it/s]"
     ]
    },
    {
     "name": "stdout",
     "output_type": "stream",
     "text": [
      "tensor([[[0.0867, 0.0805, 0.0782, 0.0841, 0.0737],\n",
      "         [0.0072, 0.0099, 0.0054, 0.0022, 0.0058],\n",
      "         [0.0085, 0.0043, 0.0049, 0.0054, 0.0046],\n",
      "         ...,\n",
      "         [0.0025, 0.0024, 0.0023, 0.0027, 0.0017],\n",
      "         [0.0069, 0.0044, 0.0067, 0.0072, 0.0056],\n",
      "         [0.0101, 0.0077, 0.0070, 0.0091, 0.0072]],\n",
      "\n",
      "        [[0.2513, 0.2957, 0.3250, 0.5332, 0.7289],\n",
      "         [0.0222, 0.0159, 0.0158, 0.0140, 0.0421],\n",
      "         [0.0223, 0.0235, 0.0467, 0.0456, 0.0183],\n",
      "         ...,\n",
      "         [0.0965, 0.0182, 0.0171, 0.0426, 0.0211],\n",
      "         [0.0296, 0.0450, 0.0383, 0.1025, 0.2066],\n",
      "         [0.0134, 0.0152, 0.0330, 0.0330, 0.0349]],\n",
      "\n",
      "        [[0.3883, 0.2564, 0.1515, 0.1417, 0.0821],\n",
      "         [0.0321, 0.0075, 0.0083, 0.0024, 0.0025],\n",
      "         [0.0630, 0.0338, 0.0000, 0.0375, 0.0000],\n",
      "         ...,\n",
      "         [0.0102, 0.0094, 0.0047, 0.0078, 0.0028],\n",
      "         [0.0496, 0.0495, 0.0386, 0.0300, 0.0243],\n",
      "         [0.0267, 0.0217, 0.0238, 0.0197, 0.0144]],\n",
      "\n",
      "        ...,\n",
      "\n",
      "        [[0.1903, 0.2052, 0.2077, 0.2234, 0.2736],\n",
      "         [0.0117, 0.0124, 0.0110, 0.0090, 0.0119],\n",
      "         [0.0262, 0.0231, 0.0200, 0.0241, 0.0263],\n",
      "         ...,\n",
      "         [0.0093, 0.0098, 0.0092, 0.0124, 0.0129],\n",
      "         [0.0233, 0.0268, 0.0265, 0.0256, 0.0304],\n",
      "         [0.0069, 0.0049, 0.0065, 0.0061, 0.0088]],\n",
      "\n",
      "        [[0.1676, 0.3552, 0.2883, 0.2290, 0.2491],\n",
      "         [0.0071, 0.0190, 0.0142, 0.0159, 0.0084],\n",
      "         [0.0176, 0.0371, 0.0284, 0.0378, 0.0699],\n",
      "         ...,\n",
      "         [0.0071, 0.0107, 0.0117, 0.0066, 0.0084],\n",
      "         [0.0263, 0.0688, 0.0404, 0.0229, 0.0234],\n",
      "         [0.0232, 0.0395, 0.0493, 0.0325, 0.0412]],\n",
      "\n",
      "        [[0.1421, 0.1616, 0.1500, 0.1649, 0.1706],\n",
      "         [0.0060, 0.0128, 0.0081, 0.0085, 0.0096],\n",
      "         [0.0115, 0.0110, 0.0208, 0.0219, 0.0254],\n",
      "         ...,\n",
      "         [0.0050, 0.0077, 0.0089, 0.0095, 0.0084],\n",
      "         [0.0193, 0.0222, 0.0177, 0.0208, 0.0208],\n",
      "         [0.0039, 0.0044, 0.0056, 0.0053, 0.0066]]], device='cuda:0')\n"
     ]
    },
    {
     "name": "stderr",
     "output_type": "stream",
     "text": [
      "\n"
     ]
    },
    {
     "ename": "RuntimeError",
     "evalue": "GET was unable to find an engine to execute this computation",
     "output_type": "error",
     "traceback": [
      "\u001b[0;31m---------------------------------------------------------------------------\u001b[0m",
      "\u001b[0;31mRuntimeError\u001b[0m                              Traceback (most recent call last)",
      "Cell \u001b[0;32mIn[10], line 4\u001b[0m\n\u001b[1;32m      1\u001b[0m model_type \u001b[38;5;241m=\u001b[39m CNNModel\n\u001b[1;32m      3\u001b[0m \u001b[38;5;28mprint\u001b[39m(\u001b[38;5;124m\"\u001b[39m\u001b[38;5;124mBase model\u001b[39m\u001b[38;5;124m\"\u001b[39m)\n\u001b[0;32m----> 4\u001b[0m base_results, metrics, base_losses       \u001b[38;5;241m=\u001b[39m \u001b[43mrepeat_exp\u001b[49m\u001b[43m(\u001b[49m\u001b[43mmodel_type\u001b[49m\u001b[43m,\u001b[49m\u001b[43m \u001b[49m\u001b[43mbase_agg_mat\u001b[49m\u001b[43m,\u001b[49m\u001b[43m \u001b[49m\u001b[43mdata\u001b[49m\u001b[43m,\u001b[49m\u001b[43m \u001b[49m\u001b[43mparams\u001b[49m\u001b[43m)\u001b[49m\n",
      "File \u001b[0;32m~/Rares/time_series/kdd/Experiments.py:299\u001b[0m, in \u001b[0;36mrepeat_exp\u001b[0;34m(model_class, base_agg_mat, data, params, coherency_loss, profhit_loss, project)\u001b[0m\n\u001b[1;32m    296\u001b[0m \u001b[38;5;28mprint\u001b[39m(\u001b[38;5;124m\"\u001b[39m\u001b[38;5;124mrun\u001b[39m\u001b[38;5;124m\"\u001b[39m, i)\n\u001b[1;32m    298\u001b[0m model \u001b[38;5;241m=\u001b[39m model_class(base_agg_mat, params)\n\u001b[0;32m--> 299\u001b[0m res, losses \u001b[38;5;241m=\u001b[39m \u001b[43mmodel\u001b[49m\u001b[38;5;241;43m.\u001b[39;49m\u001b[43mrun\u001b[49m\u001b[43m(\u001b[49m\u001b[43mdata\u001b[49m\u001b[43m)\u001b[49m\n\u001b[1;32m    300\u001b[0m results\u001b[38;5;241m.\u001b[39mappend(res\u001b[38;5;241m.\u001b[39mvalues)\n\u001b[1;32m    301\u001b[0m all_losses\u001b[38;5;241m.\u001b[39mappend(losses)\n",
      "File \u001b[0;32m~/Rares/time_series/kdd/Experiments.py:191\u001b[0m, in \u001b[0;36mExperiment.run\u001b[0;34m(self, data)\u001b[0m\n\u001b[1;32m    188\u001b[0m val_dataloader   \u001b[38;5;241m=\u001b[39m DataLoader(TensorDataset(X_val\u001b[38;5;241m.\u001b[39mfloat()  , y_val\u001b[38;5;241m.\u001b[39mfloat()  ), batch_size\u001b[38;5;241m=\u001b[39mbatch_size, shuffle\u001b[38;5;241m=\u001b[39m\u001b[38;5;28;01mTrue\u001b[39;00m)\n\u001b[1;32m    189\u001b[0m test_dataloader  \u001b[38;5;241m=\u001b[39m DataLoader(TensorDataset(X_test\u001b[38;5;241m.\u001b[39mfloat() , y_test\u001b[38;5;241m.\u001b[39mfloat() ), batch_size\u001b[38;5;241m=\u001b[39mbatch_size, shuffle\u001b[38;5;241m=\u001b[39m\u001b[38;5;28;01mTrue\u001b[39;00m)\n\u001b[0;32m--> 191\u001b[0m losses \u001b[38;5;241m=\u001b[39m \u001b[43mtrain\u001b[49m\u001b[43m(\u001b[49m\u001b[38;5;28;43mself\u001b[39;49m\u001b[38;5;241;43m.\u001b[39;49m\u001b[43mnetwork\u001b[49m\u001b[43m,\u001b[49m\u001b[43m \u001b[49m\u001b[43mtrain_dataloader\u001b[49m\u001b[43m,\u001b[49m\u001b[43m \u001b[49m\u001b[43mval_dataloader\u001b[49m\u001b[43m,\u001b[49m\u001b[43m \u001b[49m\u001b[38;5;28;43mself\u001b[39;49m\u001b[38;5;241;43m.\u001b[39;49m\u001b[43mparams\u001b[49m\u001b[43m,\u001b[49m\u001b[43m \u001b[49m\u001b[38;5;28;43mself\u001b[39;49m\u001b[38;5;241;43m.\u001b[39;49m\u001b[43mfull_agg\u001b[49m\u001b[43m)\u001b[49m\n\u001b[1;32m    193\u001b[0m metrics \u001b[38;5;241m=\u001b[39m Metrics(\u001b[38;5;28mself\u001b[39m\u001b[38;5;241m.\u001b[39mfull_agg, \u001b[38;5;28mself\u001b[39m\u001b[38;5;241m.\u001b[39mdistributional)\n\u001b[1;32m    194\u001b[0m \u001b[38;5;28;01mreturn\u001b[39;00m metrics\u001b[38;5;241m.\u001b[39mrun_metrics(\u001b[38;5;28mself\u001b[39m\u001b[38;5;241m.\u001b[39mnetwork, X_test\u001b[38;5;241m.\u001b[39mto(device)\u001b[38;5;241m.\u001b[39mfloat(), y_test\u001b[38;5;241m.\u001b[39mto(device)\u001b[38;5;241m.\u001b[39mfloat()), losses\n",
      "File \u001b[0;32m~/Rares/time_series/kdd/Experiments.py:147\u001b[0m, in \u001b[0;36mtrain\u001b[0;34m(network, data_loader, val_loader, params, aggregation_mat)\u001b[0m\n\u001b[1;32m    145\u001b[0m     c_loss \u001b[38;5;241m=\u001b[39m coherency\u001b[38;5;241m.\u001b[39mjsd_loss(mu, logstd, aggregation_mat, targets)\n\u001b[1;32m    146\u001b[0m \u001b[38;5;28;01melse\u001b[39;00m: \n\u001b[0;32m--> 147\u001b[0m     pred \u001b[38;5;241m=\u001b[39m \u001b[43mnetwork\u001b[49m\u001b[43m(\u001b[49m\u001b[43minputs\u001b[49m\u001b[38;5;241;43m.\u001b[39;49m\u001b[43mfloat\u001b[49m\u001b[43m(\u001b[49m\u001b[43m)\u001b[49m\u001b[43m)\u001b[49m\n\u001b[1;32m    148\u001b[0m     c_loss \u001b[38;5;241m=\u001b[39m torch\u001b[38;5;241m.\u001b[39mtensor([\u001b[38;5;241m0\u001b[39m])\u001b[38;5;241m.\u001b[39mto(device)\n\u001b[1;32m    150\u001b[0m loss \u001b[38;5;241m=\u001b[39m mse_loss(pred, targets\u001b[38;5;241m.\u001b[39mfloat())\n",
      "File \u001b[0;32m~/my-conda-envs/rares_env/lib/python3.12/site-packages/torch/nn/modules/module.py:1532\u001b[0m, in \u001b[0;36mModule._wrapped_call_impl\u001b[0;34m(self, *args, **kwargs)\u001b[0m\n\u001b[1;32m   1530\u001b[0m     \u001b[38;5;28;01mreturn\u001b[39;00m \u001b[38;5;28mself\u001b[39m\u001b[38;5;241m.\u001b[39m_compiled_call_impl(\u001b[38;5;241m*\u001b[39margs, \u001b[38;5;241m*\u001b[39m\u001b[38;5;241m*\u001b[39mkwargs)  \u001b[38;5;66;03m# type: ignore[misc]\u001b[39;00m\n\u001b[1;32m   1531\u001b[0m \u001b[38;5;28;01melse\u001b[39;00m:\n\u001b[0;32m-> 1532\u001b[0m     \u001b[38;5;28;01mreturn\u001b[39;00m \u001b[38;5;28;43mself\u001b[39;49m\u001b[38;5;241;43m.\u001b[39;49m\u001b[43m_call_impl\u001b[49m\u001b[43m(\u001b[49m\u001b[38;5;241;43m*\u001b[39;49m\u001b[43margs\u001b[49m\u001b[43m,\u001b[49m\u001b[43m \u001b[49m\u001b[38;5;241;43m*\u001b[39;49m\u001b[38;5;241;43m*\u001b[39;49m\u001b[43mkwargs\u001b[49m\u001b[43m)\u001b[49m\n",
      "File \u001b[0;32m~/my-conda-envs/rares_env/lib/python3.12/site-packages/torch/nn/modules/module.py:1541\u001b[0m, in \u001b[0;36mModule._call_impl\u001b[0;34m(self, *args, **kwargs)\u001b[0m\n\u001b[1;32m   1536\u001b[0m \u001b[38;5;66;03m# If we don't have any hooks, we want to skip the rest of the logic in\u001b[39;00m\n\u001b[1;32m   1537\u001b[0m \u001b[38;5;66;03m# this function, and just call forward.\u001b[39;00m\n\u001b[1;32m   1538\u001b[0m \u001b[38;5;28;01mif\u001b[39;00m \u001b[38;5;129;01mnot\u001b[39;00m (\u001b[38;5;28mself\u001b[39m\u001b[38;5;241m.\u001b[39m_backward_hooks \u001b[38;5;129;01mor\u001b[39;00m \u001b[38;5;28mself\u001b[39m\u001b[38;5;241m.\u001b[39m_backward_pre_hooks \u001b[38;5;129;01mor\u001b[39;00m \u001b[38;5;28mself\u001b[39m\u001b[38;5;241m.\u001b[39m_forward_hooks \u001b[38;5;129;01mor\u001b[39;00m \u001b[38;5;28mself\u001b[39m\u001b[38;5;241m.\u001b[39m_forward_pre_hooks\n\u001b[1;32m   1539\u001b[0m         \u001b[38;5;129;01mor\u001b[39;00m _global_backward_pre_hooks \u001b[38;5;129;01mor\u001b[39;00m _global_backward_hooks\n\u001b[1;32m   1540\u001b[0m         \u001b[38;5;129;01mor\u001b[39;00m _global_forward_hooks \u001b[38;5;129;01mor\u001b[39;00m _global_forward_pre_hooks):\n\u001b[0;32m-> 1541\u001b[0m     \u001b[38;5;28;01mreturn\u001b[39;00m \u001b[43mforward_call\u001b[49m\u001b[43m(\u001b[49m\u001b[38;5;241;43m*\u001b[39;49m\u001b[43margs\u001b[49m\u001b[43m,\u001b[49m\u001b[43m \u001b[49m\u001b[38;5;241;43m*\u001b[39;49m\u001b[38;5;241;43m*\u001b[39;49m\u001b[43mkwargs\u001b[49m\u001b[43m)\u001b[49m\n\u001b[1;32m   1543\u001b[0m \u001b[38;5;28;01mtry\u001b[39;00m:\n\u001b[1;32m   1544\u001b[0m     result \u001b[38;5;241m=\u001b[39m \u001b[38;5;28;01mNone\u001b[39;00m\n",
      "File \u001b[0;32m~/Rares/time_series/kdd/models.py:94\u001b[0m, in \u001b[0;36mCNNTimeSeriesForecaster.forward\u001b[0;34m(self, x)\u001b[0m\n\u001b[1;32m     89\u001b[0m     \u001b[38;5;28;01mdef\u001b[39;00m \u001b[38;5;21mforward\u001b[39m(\u001b[38;5;28mself\u001b[39m, x):\n\u001b[1;32m     90\u001b[0m \u001b[38;5;66;03m#         # Input shape: (batch_size, seq_length, input_channels)\u001b[39;00m\n\u001b[1;32m     91\u001b[0m \u001b[38;5;66;03m#         x = x.permute(0, 2, 1)  # → (batch, channels, sequence)\u001b[39;00m\n\u001b[1;32m     93\u001b[0m         \u001b[38;5;28mprint\u001b[39m(x)\n\u001b[0;32m---> 94\u001b[0m         x \u001b[38;5;241m=\u001b[39m torch\u001b[38;5;241m.\u001b[39mrelu(\u001b[38;5;28;43mself\u001b[39;49m\u001b[38;5;241;43m.\u001b[39;49m\u001b[43mconv1\u001b[49m\u001b[43m(\u001b[49m\u001b[43mx\u001b[49m\u001b[43m)\u001b[49m)\n\u001b[1;32m     95\u001b[0m         x \u001b[38;5;241m=\u001b[39m \u001b[38;5;28mself\u001b[39m\u001b[38;5;241m.\u001b[39mpool(x)\n\u001b[1;32m     96\u001b[0m         x \u001b[38;5;241m=\u001b[39m torch\u001b[38;5;241m.\u001b[39mrelu(\u001b[38;5;28mself\u001b[39m\u001b[38;5;241m.\u001b[39mconv2(x))\n",
      "File \u001b[0;32m~/my-conda-envs/rares_env/lib/python3.12/site-packages/torch/nn/modules/module.py:1532\u001b[0m, in \u001b[0;36mModule._wrapped_call_impl\u001b[0;34m(self, *args, **kwargs)\u001b[0m\n\u001b[1;32m   1530\u001b[0m     \u001b[38;5;28;01mreturn\u001b[39;00m \u001b[38;5;28mself\u001b[39m\u001b[38;5;241m.\u001b[39m_compiled_call_impl(\u001b[38;5;241m*\u001b[39margs, \u001b[38;5;241m*\u001b[39m\u001b[38;5;241m*\u001b[39mkwargs)  \u001b[38;5;66;03m# type: ignore[misc]\u001b[39;00m\n\u001b[1;32m   1531\u001b[0m \u001b[38;5;28;01melse\u001b[39;00m:\n\u001b[0;32m-> 1532\u001b[0m     \u001b[38;5;28;01mreturn\u001b[39;00m \u001b[38;5;28;43mself\u001b[39;49m\u001b[38;5;241;43m.\u001b[39;49m\u001b[43m_call_impl\u001b[49m\u001b[43m(\u001b[49m\u001b[38;5;241;43m*\u001b[39;49m\u001b[43margs\u001b[49m\u001b[43m,\u001b[49m\u001b[43m \u001b[49m\u001b[38;5;241;43m*\u001b[39;49m\u001b[38;5;241;43m*\u001b[39;49m\u001b[43mkwargs\u001b[49m\u001b[43m)\u001b[49m\n",
      "File \u001b[0;32m~/my-conda-envs/rares_env/lib/python3.12/site-packages/torch/nn/modules/module.py:1541\u001b[0m, in \u001b[0;36mModule._call_impl\u001b[0;34m(self, *args, **kwargs)\u001b[0m\n\u001b[1;32m   1536\u001b[0m \u001b[38;5;66;03m# If we don't have any hooks, we want to skip the rest of the logic in\u001b[39;00m\n\u001b[1;32m   1537\u001b[0m \u001b[38;5;66;03m# this function, and just call forward.\u001b[39;00m\n\u001b[1;32m   1538\u001b[0m \u001b[38;5;28;01mif\u001b[39;00m \u001b[38;5;129;01mnot\u001b[39;00m (\u001b[38;5;28mself\u001b[39m\u001b[38;5;241m.\u001b[39m_backward_hooks \u001b[38;5;129;01mor\u001b[39;00m \u001b[38;5;28mself\u001b[39m\u001b[38;5;241m.\u001b[39m_backward_pre_hooks \u001b[38;5;129;01mor\u001b[39;00m \u001b[38;5;28mself\u001b[39m\u001b[38;5;241m.\u001b[39m_forward_hooks \u001b[38;5;129;01mor\u001b[39;00m \u001b[38;5;28mself\u001b[39m\u001b[38;5;241m.\u001b[39m_forward_pre_hooks\n\u001b[1;32m   1539\u001b[0m         \u001b[38;5;129;01mor\u001b[39;00m _global_backward_pre_hooks \u001b[38;5;129;01mor\u001b[39;00m _global_backward_hooks\n\u001b[1;32m   1540\u001b[0m         \u001b[38;5;129;01mor\u001b[39;00m _global_forward_hooks \u001b[38;5;129;01mor\u001b[39;00m _global_forward_pre_hooks):\n\u001b[0;32m-> 1541\u001b[0m     \u001b[38;5;28;01mreturn\u001b[39;00m \u001b[43mforward_call\u001b[49m\u001b[43m(\u001b[49m\u001b[38;5;241;43m*\u001b[39;49m\u001b[43margs\u001b[49m\u001b[43m,\u001b[49m\u001b[43m \u001b[49m\u001b[38;5;241;43m*\u001b[39;49m\u001b[38;5;241;43m*\u001b[39;49m\u001b[43mkwargs\u001b[49m\u001b[43m)\u001b[49m\n\u001b[1;32m   1543\u001b[0m \u001b[38;5;28;01mtry\u001b[39;00m:\n\u001b[1;32m   1544\u001b[0m     result \u001b[38;5;241m=\u001b[39m \u001b[38;5;28;01mNone\u001b[39;00m\n",
      "File \u001b[0;32m~/my-conda-envs/rares_env/lib/python3.12/site-packages/torch/nn/modules/conv.py:310\u001b[0m, in \u001b[0;36mConv1d.forward\u001b[0;34m(self, input)\u001b[0m\n\u001b[1;32m    309\u001b[0m \u001b[38;5;28;01mdef\u001b[39;00m \u001b[38;5;21mforward\u001b[39m(\u001b[38;5;28mself\u001b[39m, \u001b[38;5;28minput\u001b[39m: Tensor) \u001b[38;5;241m-\u001b[39m\u001b[38;5;241m>\u001b[39m Tensor:\n\u001b[0;32m--> 310\u001b[0m     \u001b[38;5;28;01mreturn\u001b[39;00m \u001b[38;5;28;43mself\u001b[39;49m\u001b[38;5;241;43m.\u001b[39;49m\u001b[43m_conv_forward\u001b[49m\u001b[43m(\u001b[49m\u001b[38;5;28;43minput\u001b[39;49m\u001b[43m,\u001b[49m\u001b[43m \u001b[49m\u001b[38;5;28;43mself\u001b[39;49m\u001b[38;5;241;43m.\u001b[39;49m\u001b[43mweight\u001b[49m\u001b[43m,\u001b[49m\u001b[43m \u001b[49m\u001b[38;5;28;43mself\u001b[39;49m\u001b[38;5;241;43m.\u001b[39;49m\u001b[43mbias\u001b[49m\u001b[43m)\u001b[49m\n",
      "File \u001b[0;32m~/my-conda-envs/rares_env/lib/python3.12/site-packages/torch/nn/modules/conv.py:306\u001b[0m, in \u001b[0;36mConv1d._conv_forward\u001b[0;34m(self, input, weight, bias)\u001b[0m\n\u001b[1;32m    302\u001b[0m \u001b[38;5;28;01mif\u001b[39;00m \u001b[38;5;28mself\u001b[39m\u001b[38;5;241m.\u001b[39mpadding_mode \u001b[38;5;241m!=\u001b[39m \u001b[38;5;124m'\u001b[39m\u001b[38;5;124mzeros\u001b[39m\u001b[38;5;124m'\u001b[39m:\n\u001b[1;32m    303\u001b[0m     \u001b[38;5;28;01mreturn\u001b[39;00m F\u001b[38;5;241m.\u001b[39mconv1d(F\u001b[38;5;241m.\u001b[39mpad(\u001b[38;5;28minput\u001b[39m, \u001b[38;5;28mself\u001b[39m\u001b[38;5;241m.\u001b[39m_reversed_padding_repeated_twice, mode\u001b[38;5;241m=\u001b[39m\u001b[38;5;28mself\u001b[39m\u001b[38;5;241m.\u001b[39mpadding_mode),\n\u001b[1;32m    304\u001b[0m                     weight, bias, \u001b[38;5;28mself\u001b[39m\u001b[38;5;241m.\u001b[39mstride,\n\u001b[1;32m    305\u001b[0m                     _single(\u001b[38;5;241m0\u001b[39m), \u001b[38;5;28mself\u001b[39m\u001b[38;5;241m.\u001b[39mdilation, \u001b[38;5;28mself\u001b[39m\u001b[38;5;241m.\u001b[39mgroups)\n\u001b[0;32m--> 306\u001b[0m \u001b[38;5;28;01mreturn\u001b[39;00m \u001b[43mF\u001b[49m\u001b[38;5;241;43m.\u001b[39;49m\u001b[43mconv1d\u001b[49m\u001b[43m(\u001b[49m\u001b[38;5;28;43minput\u001b[39;49m\u001b[43m,\u001b[49m\u001b[43m \u001b[49m\u001b[43mweight\u001b[49m\u001b[43m,\u001b[49m\u001b[43m \u001b[49m\u001b[43mbias\u001b[49m\u001b[43m,\u001b[49m\u001b[43m \u001b[49m\u001b[38;5;28;43mself\u001b[39;49m\u001b[38;5;241;43m.\u001b[39;49m\u001b[43mstride\u001b[49m\u001b[43m,\u001b[49m\n\u001b[1;32m    307\u001b[0m \u001b[43m                \u001b[49m\u001b[38;5;28;43mself\u001b[39;49m\u001b[38;5;241;43m.\u001b[39;49m\u001b[43mpadding\u001b[49m\u001b[43m,\u001b[49m\u001b[43m \u001b[49m\u001b[38;5;28;43mself\u001b[39;49m\u001b[38;5;241;43m.\u001b[39;49m\u001b[43mdilation\u001b[49m\u001b[43m,\u001b[49m\u001b[43m \u001b[49m\u001b[38;5;28;43mself\u001b[39;49m\u001b[38;5;241;43m.\u001b[39;49m\u001b[43mgroups\u001b[49m\u001b[43m)\u001b[49m\n",
      "\u001b[0;31mRuntimeError\u001b[0m: GET was unable to find an engine to execute this computation"
     ]
    }
   ],
   "source": [
    "model_type = CNNModel\n",
    "\n",
    "print(\"Base model\")\n",
    "base_results, metrics, base_losses       = repeat_exp(model_type, base_agg_mat, data, params)"
   ]
  },
  {
   "cell_type": "code",
   "execution_count": null,
   "id": "e813ebbc-c405-423b-b696-7f093137701c",
   "metadata": {},
   "outputs": [],
   "source": [
    "print(\"CoRE model\")\n",
    "coherency_results,  _, coherency_losses  = repeat_exp(model_type, base_agg_mat, data, params, coherency_loss=True)\n",
    "\n",
    "print(\"Projection model\")\n",
    "projection_results, _, projection_losses = repeat_exp(model_type, base_agg_mat, data, params, project=True)\n",
    "\n",
    "print(\"PROFHiT model\")\n",
    "profhit_results,    _, profhit_losses    = repeat_exp(model_type, base_agg_mat, data, params, profhit_loss=True)\n",
    "\n",
    "plot_all_results()"
   ]
  }
 ],
 "metadata": {
  "kernelspec": {
   "display_name": "rares_env",
   "language": "python",
   "name": "rares_env"
  },
  "language_info": {
   "codemirror_mode": {
    "name": "ipython",
    "version": 3
   },
   "file_extension": ".py",
   "mimetype": "text/x-python",
   "name": "python",
   "nbconvert_exporter": "python",
   "pygments_lexer": "ipython3",
   "version": "3.12.3"
  }
 },
 "nbformat": 4,
 "nbformat_minor": 5
}

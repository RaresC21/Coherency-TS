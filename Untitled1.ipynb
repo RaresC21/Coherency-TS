{
 "cells": [
  {
   "cell_type": "code",
   "execution_count": 2,
   "id": "5c5cb122-4f71-4149-8532-7022b1bcc1b7",
   "metadata": {},
   "outputs": [],
   "source": [
    "import pandas as pd\n",
    "import numpy as np\n",
    "from collections import defaultdict\n",
    "from matplotlib import pyplot as plt\n",
    "import random\n",
    "import argparse\n",
    "import os\n",
    "\n",
    "import yaml\n",
    "\n",
    "import torch\n",
    "import torch.nn as nn\n",
    "import torch.nn.functional as F\n",
    "import torch.optim as optim\n",
    "from sklearn import preprocessing\n",
    "\n",
    "\n",
    "import utils\n",
    "from models import * \n",
    "from Experiments import *"
   ]
  },
  {
   "cell_type": "code",
   "execution_count": 4,
   "id": "258c42cc-6833-4bb3-8cfe-8a97fa893e71",
   "metadata": {
    "tags": []
   },
   "outputs": [],
   "source": [
    "datafile = \"m5/sales_train_evaluation.csv\"\n",
    "sales_train_evaluation = pd.read_csv(datafile)"
   ]
  },
  {
   "cell_type": "code",
   "execution_count": 6,
   "id": "81ab66fc-0c87-4356-824a-2862fa53dc3e",
   "metadata": {},
   "outputs": [],
   "source": [
    "def create_aggregated_dataframe(sales_train_evaluation):\n",
    "    # Columns to aggregate are d_1 to d_1942\n",
    "    cols_to_agg = [f'd_{i}' for i in range(1, 1942)]\n",
    "\n",
    "    # defines how we are grouping \n",
    "    group_cols = [\n",
    "        ['state_id'],\n",
    "        ['store_id'],\n",
    "        ['cat_id'],\n",
    "        ['dept_id'],\n",
    "        ['state_id', 'cat_id'],\n",
    "        ['state_id', 'dept_id'],\n",
    "        ['store_id', 'cat_id'],\n",
    "        ['store_id', 'dept_id'],\n",
    "        ['item_id'],\n",
    "        ['item_id', 'state_id']\n",
    "    ]\n",
    "    \n",
    "    # Create a copy of the original DataFrame to start aggregating into\n",
    "    aggregated_df = sales_train_evaluation.copy()\n",
    "    aggregated_df['Hierarchy Level'] = len(group_cols)  # Set NaN for original data\n",
    "\n",
    "    # Store the indices of the original rows\n",
    "    original_indices = np.arange(len(aggregated_df))\n",
    "\n",
    "    # Perform aggregation and append to the original DataFrame\n",
    "    hierarchy_level = 0\n",
    "    appended_data = []\n",
    "    for group in group_cols:\n",
    "        group_df = sales_train_evaluation.groupby(group)[cols_to_agg].sum().reset_index()\n",
    "        group_df['Hierarchy Level'] = hierarchy_level\n",
    "        appended_data.append(group_df)\n",
    "        hierarchy_level += 1\n",
    "\n",
    "    # Append all aggregated data in the order of hierarchy (lower index first)\n",
    "    aggregated_df = pd.concat([aggregated_df] + appended_data, ignore_index=True)\n",
    "    \n",
    "    # Sort DataFrame by 'Hierarchy Level'\n",
    "    aggregated_df.reset_index(drop=True, inplace=True)\n",
    "\n",
    "    # Create an empty aggregation matrix\n",
    "    n_rows = len(aggregated_df)\n",
    "    agg_matrix = np.zeros((n_rows, n_rows), dtype=int)\n",
    "\n",
    "    # Mark original rows (self aggregation)\n",
    "    np.fill_diagonal(agg_matrix[:len(original_indices), :len(original_indices)], 1)\n",
    "\n",
    "    # Fill in the aggregation matrix for the appended rows\n",
    "    new_index_offset = len(original_indices)\n",
    "    for group in group_cols:\n",
    "        group_indices = sales_train_evaluation.groupby(group).apply(lambda x: x.index.tolist()).tolist()\n",
    "        for sub_indices in group_indices:\n",
    "            agg_matrix[new_index_offset, sub_indices] = 1\n",
    "            new_index_offset += 1\n",
    "\n",
    "    return aggregated_df, agg_matrix"
   ]
  },
  {
   "cell_type": "code",
   "execution_count": 7,
   "id": "7fe58397-4a86-4473-b339-f5e5566e8daa",
   "metadata": {
    "collapsed": true,
    "jupyter": {
     "outputs_hidden": true
    },
    "tags": []
   },
   "outputs": [
    {
     "name": "stderr",
     "output_type": "stream",
     "text": [
      "/tmp/ipykernel_43986/3858071226.py:51: DeprecationWarning: DataFrameGroupBy.apply operated on the grouping columns. This behavior is deprecated, and in a future version of pandas the grouping columns will be excluded from the operation. Either pass `include_groups=False` to exclude the groupings or explicitly select the grouping columns after groupby to silence this warning.\n",
      "  group_indices = sales_train_evaluation.groupby(group).apply(lambda x: x.index.tolist()).tolist()\n",
      "/tmp/ipykernel_43986/3858071226.py:51: DeprecationWarning: DataFrameGroupBy.apply operated on the grouping columns. This behavior is deprecated, and in a future version of pandas the grouping columns will be excluded from the operation. Either pass `include_groups=False` to exclude the groupings or explicitly select the grouping columns after groupby to silence this warning.\n",
      "  group_indices = sales_train_evaluation.groupby(group).apply(lambda x: x.index.tolist()).tolist()\n",
      "/tmp/ipykernel_43986/3858071226.py:51: DeprecationWarning: DataFrameGroupBy.apply operated on the grouping columns. This behavior is deprecated, and in a future version of pandas the grouping columns will be excluded from the operation. Either pass `include_groups=False` to exclude the groupings or explicitly select the grouping columns after groupby to silence this warning.\n",
      "  group_indices = sales_train_evaluation.groupby(group).apply(lambda x: x.index.tolist()).tolist()\n",
      "/tmp/ipykernel_43986/3858071226.py:51: DeprecationWarning: DataFrameGroupBy.apply operated on the grouping columns. This behavior is deprecated, and in a future version of pandas the grouping columns will be excluded from the operation. Either pass `include_groups=False` to exclude the groupings or explicitly select the grouping columns after groupby to silence this warning.\n",
      "  group_indices = sales_train_evaluation.groupby(group).apply(lambda x: x.index.tolist()).tolist()\n",
      "/tmp/ipykernel_43986/3858071226.py:51: DeprecationWarning: DataFrameGroupBy.apply operated on the grouping columns. This behavior is deprecated, and in a future version of pandas the grouping columns will be excluded from the operation. Either pass `include_groups=False` to exclude the groupings or explicitly select the grouping columns after groupby to silence this warning.\n",
      "  group_indices = sales_train_evaluation.groupby(group).apply(lambda x: x.index.tolist()).tolist()\n",
      "/tmp/ipykernel_43986/3858071226.py:51: DeprecationWarning: DataFrameGroupBy.apply operated on the grouping columns. This behavior is deprecated, and in a future version of pandas the grouping columns will be excluded from the operation. Either pass `include_groups=False` to exclude the groupings or explicitly select the grouping columns after groupby to silence this warning.\n",
      "  group_indices = sales_train_evaluation.groupby(group).apply(lambda x: x.index.tolist()).tolist()\n",
      "/tmp/ipykernel_43986/3858071226.py:51: DeprecationWarning: DataFrameGroupBy.apply operated on the grouping columns. This behavior is deprecated, and in a future version of pandas the grouping columns will be excluded from the operation. Either pass `include_groups=False` to exclude the groupings or explicitly select the grouping columns after groupby to silence this warning.\n",
      "  group_indices = sales_train_evaluation.groupby(group).apply(lambda x: x.index.tolist()).tolist()\n",
      "/tmp/ipykernel_43986/3858071226.py:51: DeprecationWarning: DataFrameGroupBy.apply operated on the grouping columns. This behavior is deprecated, and in a future version of pandas the grouping columns will be excluded from the operation. Either pass `include_groups=False` to exclude the groupings or explicitly select the grouping columns after groupby to silence this warning.\n",
      "  group_indices = sales_train_evaluation.groupby(group).apply(lambda x: x.index.tolist()).tolist()\n",
      "/tmp/ipykernel_43986/3858071226.py:51: DeprecationWarning: DataFrameGroupBy.apply operated on the grouping columns. This behavior is deprecated, and in a future version of pandas the grouping columns will be excluded from the operation. Either pass `include_groups=False` to exclude the groupings or explicitly select the grouping columns after groupby to silence this warning.\n",
      "  group_indices = sales_train_evaluation.groupby(group).apply(lambda x: x.index.tolist()).tolist()\n",
      "/tmp/ipykernel_43986/3858071226.py:51: DeprecationWarning: DataFrameGroupBy.apply operated on the grouping columns. This behavior is deprecated, and in a future version of pandas the grouping columns will be excluded from the operation. Either pass `include_groups=False` to exclude the groupings or explicitly select the grouping columns after groupby to silence this warning.\n",
      "  group_indices = sales_train_evaluation.groupby(group).apply(lambda x: x.index.tolist()).tolist()\n"
     ]
    }
   ],
   "source": [
    "agg_df, agg_matrix = create_aggregated_dataframe(sales_train_evaluation)\n",
    "\n",
    "cols_to_agg = [f'd_{i}' for i in range(1, 1942)]\n",
    "\n",
    "data = agg_df[cols_to_agg].T\n",
    "\n",
    "maximum = np.max(data.values)\n",
    "data_scaled = (data / maximum).values\n",
    "\n",
    "seed = 0 \n",
    "\n",
    "def set_seeds(seed): \n",
    "    random.seed(seed)\n",
    "    np.random.seed(seed)\n",
    "    torch.manual_seed(seed)\n",
    "    \n",
    "    torch.backends.cudnn.deterministic = True\n",
    "    torch.backends.cudnn.benchmark = False\n",
    "    # if using nvidia gpu\n",
    "    torch.cuda.manual_seed(seed)\n",
    "    torch.cuda.manual_seed_all(seed) \n",
    "\n",
    "set_seeds(seed)"
   ]
  },
  {
   "cell_type": "code",
   "execution_count": 11,
   "id": "31bd9fb1-b573-4d31-97db-281b6f6da770",
   "metadata": {},
   "outputs": [
    {
     "data": {
      "text/plain": [
       "(1941, 42839)"
      ]
     },
     "execution_count": 11,
     "metadata": {},
     "output_type": "execute_result"
    }
   ],
   "source": [
    "n_series = data.shape[1] \n",
    "n_total = data.shape[0]\n",
    "n_train = 1400\n",
    "context_window = 2\n",
    "n_val = 150\n",
    "\n",
    "data.shape\n"
   ]
  },
  {
   "cell_type": "code",
   "execution_count": null,
   "id": "cb69205b-1a1e-4c74-a158-f24745bc89b6",
   "metadata": {},
   "outputs": [],
   "source": []
  }
 ],
 "metadata": {
  "kernelspec": {
   "display_name": "rares_env",
   "language": "python",
   "name": "rares_env"
  },
  "language_info": {
   "codemirror_mode": {
    "name": "ipython",
    "version": 3
   },
   "file_extension": ".py",
   "mimetype": "text/x-python",
   "name": "python",
   "nbconvert_exporter": "python",
   "pygments_lexer": "ipython3",
   "version": "3.12.3"
  }
 },
 "nbformat": 4,
 "nbformat_minor": 5
}
